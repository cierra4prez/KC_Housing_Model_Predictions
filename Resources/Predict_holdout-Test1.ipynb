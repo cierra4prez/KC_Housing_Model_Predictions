{
 "cells": [
  {
   "cell_type": "code",
   "execution_count": 1,
   "metadata": {},
   "outputs": [],
   "source": [
    "import pickle\n",
    "import pandas as pd\n",
    "import numpy as np\n",
    "from sklearn.preprocessing import PolynomialFeatures\n",
    "\n",
    "pd.set_option('display.max_columns', 300)"
   ]
  },
  {
   "cell_type": "markdown",
   "metadata": {},
   "source": [
    "## Step 1: Read in hold out data, scalers, and best model"
   ]
  },
  {
   "cell_type": "code",
   "execution_count": 2,
   "metadata": {},
   "outputs": [],
   "source": [
    "df = pd.read_csv('Resources/kc_house_data_test_features.csv', index_col=0) #holdout\n",
    "final_model = pickle.load(open('poly2_model.pickle','rb'))"
   ]
  },
  {
   "cell_type": "code",
   "execution_count": 3,
   "metadata": {},
   "outputs": [
    {
     "name": "stdout",
     "output_type": "stream",
     "text": [
      "Number of columns:  28\n"
     ]
    }
   ],
   "source": [
    "print('Number of columns: ', len(final_model.coef_))"
   ]
  },
  {
   "cell_type": "markdown",
   "metadata": {},
   "source": [
    "## Step 2: Feature Engineering for holdout set"
   ]
  },
  {
   "cell_type": "markdown",
   "metadata": {},
   "source": [
    "Remember we have to perform the same transformations on our holdout data (feature engineering, extreme values, and scaling) that we performed on the original data."
   ]
  },
  {
   "cell_type": "code",
   "execution_count": 4,
   "metadata": {},
   "outputs": [],
   "source": [
    "#changing date format workable month/year\n",
    "df['yr_sold'] = pd.to_datetime(df['date'].str.slice(0,8), format='%Y%m%d', errors='ignore').dt.year\n",
    "df['month_sold'] = pd.to_datetime(df['date'].str.slice(0,8), format='%Y%m%d', errors='ignore').dt.month\n",
    "df.drop('date',axis=1,inplace=True)"
   ]
  },
  {
   "cell_type": "code",
   "execution_count": 5,
   "metadata": {},
   "outputs": [],
   "source": [
    "#adjusting bedrooms outliers \n",
    "df['bedrooms'] = df['bedrooms'].apply(lambda x : 9 if x > 9 else x)\n",
    "\n",
    "# adjuting sqft home outliers to within 6 standard deviations of the mean\n",
    "for col in ['sqft_above', 'sqft_living', 'sqft_living15']: \n",
    "    above_6std = df[col].mean()+(6*df[col].std())\n",
    "    df[col] = np.where(df[col].values >above_6std, df[col].mean()+6*df[col].std(), df[col])\n",
    "    \n",
    "# adjusting lot outliers to within 9 standard deviations of the mean\n",
    "for col in ['sqft_lot', 'sqft_lot15']: \n",
    "    above_9std = df[col].mean()+(9*df[col].std())\n",
    "    df[col] = np.where(df[col].values >above_6std, df[col].mean()+9*df[col].std(), df[col])\n",
    "    "
   ]
  },
  {
   "cell_type": "code",
   "execution_count": 6,
   "metadata": {},
   "outputs": [],
   "source": [
    "#lat/long cat?"
   ]
  },
  {
   "cell_type": "code",
   "execution_count": 7,
   "metadata": {},
   "outputs": [],
   "source": [
    "## RUN THIS CELL ONLY ONCE!\n",
    "\n",
    "#Create new column 'age' for age of house\n",
    "df['age'] = 2020 - df.yr_built\n",
    "\n",
    "#Create dummy variable 'basement' y/n\n",
    "df['basement'] = np.where(df['sqft_basement']>0 , 1, 0)\n",
    "df = pd.get_dummies(df, columns=['basement'])\n",
    "df = df.drop(['basement_0'], axis=1)\n",
    "\n",
    "#Create a new column 'neighbors_compared' with sqft_living - sqft_living15\n",
    "df['neighbors_compared'] = df.sqft_living - df.sqft_living15\n",
    "\n",
    "#Create dummy columns using 'nc_2'\n",
    "df['nc2'] = np.where(df['sqft_living']> df['sqft_living15'] , 1, 0)\n",
    "df = pd.get_dummies(df, columns=['nc2'])\n",
    "df = df.drop(['nc2_0'], axis=1)"
   ]
  },
  {
   "cell_type": "code",
   "execution_count": 8,
   "metadata": {},
   "outputs": [],
   "source": [
    "## RUN THIS CELL ONLY ONCE!\n",
    "\n",
    "#Renovated columns\n",
    "#Create new column 'last_renovted' for how long ago since last renovation\n",
    "df['last_ren'] = np.where(df['yr_renovated'] > 0, (2020 - df['yr_renovated']), 0) ##np.nan may break this code... find out a way to make '0' into null value\n",
    "\n",
    "#Create new column 'last_ren2' for how long (years) since last renovation and including age if no renovation\n",
    "df['last_ren2'] = np.where(df['yr_renovated'] > 0, (2020 - df['yr_renovated']), (2020 - df['yr_built']))\n",
    "\n",
    "#Create dummy columns using 'renovated'\n",
    "df['renovated'] = np.where(df['yr_renovated']>0 , 1, 0)\n",
    "df = pd.get_dummies(df, columns=['renovated'])\n",
    "df = df.drop(['renovated_0'], axis=1)\n"
   ]
  },
  {
   "cell_type": "code",
   "execution_count": 9,
   "metadata": {},
   "outputs": [],
   "source": [
    "# #Dummy Zips\n",
    "# # Create dummy variables for zipcodes\n",
    "# zip_dummies = pd.get_dummies(df['zipcode'], drop_first=True)"
   ]
  },
  {
   "cell_type": "markdown",
   "metadata": {},
   "source": [
    "## Step 3: Predict the holdout set"
   ]
  },
  {
   "cell_type": "code",
   "execution_count": 10,
   "metadata": {},
   "outputs": [
    {
     "data": {
      "text/plain": [
       "Index(['id', 'bedrooms', 'bathrooms', 'sqft_living', 'sqft_lot', 'floors',\n",
       "       'waterfront', 'view', 'condition', 'grade', 'sqft_above',\n",
       "       'sqft_basement', 'yr_built', 'yr_renovated', 'zipcode', 'lat', 'long',\n",
       "       'sqft_living15', 'sqft_lot15', 'yr_sold', 'month_sold', 'age',\n",
       "       'basement_1', 'neighbors_compared', 'nc2_1', 'last_ren', 'last_ren2',\n",
       "       'renovated_1'],\n",
       "      dtype='object')"
      ]
     },
     "execution_count": 10,
     "metadata": {},
     "output_type": "execute_result"
    }
   ],
   "source": [
    "df.columns"
   ]
  },
  {
   "cell_type": "code",
   "execution_count": 11,
   "metadata": {},
   "outputs": [],
   "source": [
    "poly= PolynomialFeatures(degree=2, include_bias=False)\n",
    "poly_data = poly.fit_transform(df)\n",
    "poly_columns = poly.get_feature_names(df.columns)\n",
    "df_poly = pd.DataFrame(poly_data, columns=poly_columns)"
   ]
  },
  {
   "cell_type": "code",
   "execution_count": 12,
   "metadata": {},
   "outputs": [
    {
     "data": {
      "text/plain": [
       "(4323, 434)"
      ]
     },
     "execution_count": 12,
     "metadata": {},
     "output_type": "execute_result"
    }
   ],
   "source": [
    "df_poly.shape"
   ]
  },
  {
   "cell_type": "code",
   "execution_count": 13,
   "metadata": {},
   "outputs": [
    {
     "data": {
      "text/plain": [
       "(4323, 28)"
      ]
     },
     "execution_count": 13,
     "metadata": {},
     "output_type": "execute_result"
    }
   ],
   "source": [
    "df.shape"
   ]
  },
  {
   "cell_type": "code",
   "execution_count": 14,
   "metadata": {},
   "outputs": [],
   "source": [
    "selected_columns = ['sqft_living',\n",
    " 'grade',\n",
    " 'bedrooms sqft_living',\n",
    " 'bathrooms sqft_living',\n",
    " 'bathrooms grade',\n",
    " 'bathrooms sqft_above',\n",
    " 'bathrooms sqft_living15',\n",
    " 'sqft_living^2',\n",
    " 'sqft_living floors',\n",
    " 'sqft_living condition',\n",
    " 'sqft_living grade',\n",
    " 'sqft_living sqft_above',\n",
    " 'sqft_living yr_built',\n",
    " 'sqft_living lat',\n",
    " 'sqft_living long',\n",
    " 'sqft_living sqft_living15',\n",
    " 'sqft_living yr_sold',\n",
    " 'condition sqft_above',\n",
    " 'grade^2',\n",
    " 'grade sqft_above',\n",
    " 'grade yr_built',\n",
    " 'grade lat',\n",
    " 'grade long',\n",
    " 'grade sqft_living15',\n",
    " 'grade yr_sold',\n",
    " 'sqft_above^2',\n",
    " 'sqft_above lat',\n",
    " 'sqft_above sqft_living15']"
   ]
  },
  {
   "cell_type": "code",
   "execution_count": 15,
   "metadata": {
    "scrolled": true
   },
   "outputs": [],
   "source": [
    "final_pred = final_model.predict(df_poly[selected_columns])"
   ]
  },
  {
   "cell_type": "code",
   "execution_count": 16,
   "metadata": {},
   "outputs": [
    {
     "data": {
      "text/plain": [
       "548751.5221319428"
      ]
     },
     "execution_count": 16,
     "metadata": {},
     "output_type": "execute_result"
    }
   ],
   "source": [
    "final_pred.mean()"
   ]
  },
  {
   "cell_type": "markdown",
   "metadata": {},
   "source": [
    "## Step 4: Export your predictions"
   ]
  },
  {
   "cell_type": "code",
   "execution_count": 17,
   "metadata": {},
   "outputs": [],
   "source": [
    "last_df = pd.DataFrame(final_pred)"
   ]
  },
  {
   "cell_type": "code",
   "execution_count": 18,
   "metadata": {
    "scrolled": true
   },
   "outputs": [],
   "source": [
    "last_df.to_csv(\"housing_preds_Candaur.csv'\")"
   ]
  }
 ],
 "metadata": {
  "kernelspec": {
   "display_name": "Python 3",
   "language": "python",
   "name": "python3"
  },
  "language_info": {
   "codemirror_mode": {
    "name": "ipython",
    "version": 3
   },
   "file_extension": ".py",
   "mimetype": "text/x-python",
   "name": "python",
   "nbconvert_exporter": "python",
   "pygments_lexer": "ipython3",
   "version": "3.6.9"
  }
 },
 "nbformat": 4,
 "nbformat_minor": 2
}
